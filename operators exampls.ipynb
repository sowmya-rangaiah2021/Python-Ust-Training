{
 "cells": [
  {
   "cell_type": "code",
   "execution_count": null,
   "id": "eb1799fe",
   "metadata": {},
   "outputs": [],
   "source": [
    "a=5 b=4"
   ]
  },
  {
   "cell_type": "code",
   "execution_count": null,
   "id": "eae2327b",
   "metadata": {},
   "outputs": [],
   "source": []
  },
  {
   "cell_type": "code",
   "execution_count": 1,
   "id": "63d1b03e",
   "metadata": {
    "ExecuteTime": {
     "end_time": "2022-02-11T07:48:02.869596Z",
     "start_time": "2022-02-11T07:48:02.801816Z"
    }
   },
   "outputs": [
    {
     "data": {
      "text/plain": [
       "True"
      ]
     },
     "execution_count": 1,
     "metadata": {},
     "output_type": "execute_result"
    }
   ],
   "source": [
    "5==5"
   ]
  },
  {
   "cell_type": "code",
   "execution_count": 3,
   "id": "a671053d",
   "metadata": {
    "ExecuteTime": {
     "end_time": "2022-02-11T07:48:24.913011Z",
     "start_time": "2022-02-11T07:48:24.887444Z"
    }
   },
   "outputs": [
    {
     "data": {
      "text/plain": [
       "False"
      ]
     },
     "execution_count": 3,
     "metadata": {},
     "output_type": "execute_result"
    }
   ],
   "source": [
    "5==4"
   ]
  },
  {
   "cell_type": "code",
   "execution_count": null,
   "id": "1b29b30a",
   "metadata": {},
   "outputs": [],
   "source": [
    "NOT EQUAL"
   ]
  },
  {
   "cell_type": "code",
   "execution_count": 5,
   "id": "8e2cc5de",
   "metadata": {
    "ExecuteTime": {
     "end_time": "2022-02-11T07:50:31.196677Z",
     "start_time": "2022-02-11T07:50:31.164999Z"
    }
   },
   "outputs": [
    {
     "data": {
      "text/plain": [
       "True"
      ]
     },
     "execution_count": 5,
     "metadata": {},
     "output_type": "execute_result"
    }
   ],
   "source": [
    "5!=4"
   ]
  },
  {
   "cell_type": "code",
   "execution_count": 6,
   "id": "fa24756c",
   "metadata": {
    "ExecuteTime": {
     "end_time": "2022-02-11T07:50:40.706506Z",
     "start_time": "2022-02-11T07:50:40.678429Z"
    }
   },
   "outputs": [
    {
     "data": {
      "text/plain": [
       "False"
      ]
     },
     "execution_count": 6,
     "metadata": {},
     "output_type": "execute_result"
    }
   ],
   "source": [
    "4!=4"
   ]
  },
  {
   "cell_type": "code",
   "execution_count": null,
   "id": "0cdfd7e4",
   "metadata": {},
   "outputs": [],
   "source": [
    "Greater than"
   ]
  },
  {
   "cell_type": "code",
   "execution_count": 7,
   "id": "36426d61",
   "metadata": {
    "ExecuteTime": {
     "end_time": "2022-02-11T07:52:22.549802Z",
     "start_time": "2022-02-11T07:52:22.523791Z"
    }
   },
   "outputs": [
    {
     "data": {
      "text/plain": [
       "True"
      ]
     },
     "execution_count": 7,
     "metadata": {},
     "output_type": "execute_result"
    }
   ],
   "source": [
    "5>4"
   ]
  },
  {
   "cell_type": "code",
   "execution_count": 9,
   "id": "5d57c0a3",
   "metadata": {
    "ExecuteTime": {
     "end_time": "2022-02-11T07:52:47.735127Z",
     "start_time": "2022-02-11T07:52:47.709802Z"
    }
   },
   "outputs": [
    {
     "data": {
      "text/plain": [
       "False"
      ]
     },
     "execution_count": 9,
     "metadata": {},
     "output_type": "execute_result"
    }
   ],
   "source": [
    "4>5"
   ]
  },
  {
   "cell_type": "code",
   "execution_count": null,
   "id": "3f2f5856",
   "metadata": {},
   "outputs": [],
   "source": [
    "less than"
   ]
  },
  {
   "cell_type": "code",
   "execution_count": 10,
   "id": "a5ca4494",
   "metadata": {
    "ExecuteTime": {
     "end_time": "2022-02-11T07:53:20.371968Z",
     "start_time": "2022-02-11T07:53:20.344302Z"
    }
   },
   "outputs": [
    {
     "data": {
      "text/plain": [
       "True"
      ]
     },
     "execution_count": 10,
     "metadata": {},
     "output_type": "execute_result"
    }
   ],
   "source": [
    "4<5"
   ]
  },
  {
   "cell_type": "code",
   "execution_count": 12,
   "id": "c7e3b58a",
   "metadata": {
    "ExecuteTime": {
     "end_time": "2022-02-11T07:53:47.567852Z",
     "start_time": "2022-02-11T07:53:47.539733Z"
    }
   },
   "outputs": [
    {
     "data": {
      "text/plain": [
       "False"
      ]
     },
     "execution_count": 12,
     "metadata": {},
     "output_type": "execute_result"
    }
   ],
   "source": [
    "5<4"
   ]
  },
  {
   "cell_type": "code",
   "execution_count": null,
   "id": "ff9d5ee7",
   "metadata": {},
   "outputs": [],
   "source": [
    "greater than or equal"
   ]
  },
  {
   "cell_type": "code",
   "execution_count": 13,
   "id": "315605f8",
   "metadata": {
    "ExecuteTime": {
     "end_time": "2022-02-11T07:55:33.319837Z",
     "start_time": "2022-02-11T07:55:33.294041Z"
    }
   },
   "outputs": [
    {
     "data": {
      "text/plain": [
       "True"
      ]
     },
     "execution_count": 13,
     "metadata": {},
     "output_type": "execute_result"
    }
   ],
   "source": [
    "5>=4"
   ]
  },
  {
   "cell_type": "code",
   "execution_count": 15,
   "id": "c6de8d3a",
   "metadata": {
    "ExecuteTime": {
     "end_time": "2022-02-11T07:58:23.837392Z",
     "start_time": "2022-02-11T07:58:23.814787Z"
    }
   },
   "outputs": [
    {
     "data": {
      "text/plain": [
       "False"
      ]
     },
     "execution_count": 15,
     "metadata": {},
     "output_type": "execute_result"
    }
   ],
   "source": [
    "5>=6"
   ]
  },
  {
   "cell_type": "code",
   "execution_count": null,
   "id": "93716d71",
   "metadata": {},
   "outputs": [],
   "source": [
    "less than or equal"
   ]
  },
  {
   "cell_type": "code",
   "execution_count": 16,
   "id": "0c5e72c4",
   "metadata": {
    "ExecuteTime": {
     "end_time": "2022-02-11T07:59:01.806870Z",
     "start_time": "2022-02-11T07:59:01.792087Z"
    }
   },
   "outputs": [
    {
     "data": {
      "text/plain": [
       "False"
      ]
     },
     "execution_count": 16,
     "metadata": {},
     "output_type": "execute_result"
    }
   ],
   "source": [
    "5<=4"
   ]
  },
  {
   "cell_type": "code",
   "execution_count": 17,
   "id": "539cd8d9",
   "metadata": {
    "ExecuteTime": {
     "end_time": "2022-02-11T07:59:32.158102Z",
     "start_time": "2022-02-11T07:59:32.133687Z"
    }
   },
   "outputs": [
    {
     "data": {
      "text/plain": [
       "True"
      ]
     },
     "execution_count": 17,
     "metadata": {},
     "output_type": "execute_result"
    }
   ],
   "source": [
    "4<=5"
   ]
  },
  {
   "cell_type": "code",
   "execution_count": 10,
   "id": "74675c1a",
   "metadata": {
    "ExecuteTime": {
     "end_time": "2022-02-14T11:56:51.729993Z",
     "start_time": "2022-02-14T11:56:51.698028Z"
    }
   },
   "outputs": [
    {
     "name": "stdout",
     "output_type": "stream",
     "text": [
      "gobi lohi\n",
      "pani lohi\n",
      "puri lohi\n"
     ]
    }
   ],
   "source": [
    "def my_function(sow):\n",
    "  print(sow + \" lohi\")\n",
    "\n",
    "my_function(\"gobi\")\n",
    "my_function(\"pani\")\n",
    "my_function(\"puri\")\n"
   ]
  },
  {
   "cell_type": "code",
   "execution_count": 12,
   "id": "f8258254",
   "metadata": {
    "ExecuteTime": {
     "end_time": "2022-02-14T11:57:49.323063Z",
     "start_time": "2022-02-14T11:57:49.298658Z"
    }
   },
   "outputs": [
    {
     "name": "stdout",
     "output_type": "stream",
     "text": [
      "gobi pura\n",
      "pani pura\n",
      "puri pura\n"
     ]
    }
   ],
   "source": [
    "def my_function(hassan):\n",
    "  print(hassan + \" pura\")\n",
    "\n",
    "my_function(\"gobi\")\n",
    "my_function(\"pani\")\n",
    "my_function(\"puri\")"
   ]
  },
  {
   "cell_type": "code",
   "execution_count": 13,
   "id": "65921919",
   "metadata": {
    "ExecuteTime": {
     "end_time": "2022-02-14T11:59:56.443801Z",
     "start_time": "2022-02-14T11:59:56.430673Z"
    }
   },
   "outputs": [
    {
     "name": "stdout",
     "output_type": "stream",
     "text": [
      "saiminchu\n",
      "ramminchu\n"
     ]
    }
   ],
   "source": [
    "def my_function(dany):\n",
    "    print(dany + \"minchu\")\n",
    "\n",
    "my_function(\"sai\") \n",
    "my_function(\"ram\")\n",
    "    \n",
    "\n",
    "    "
   ]
  },
  {
   "cell_type": "code",
   "execution_count": null,
   "id": "3f9d1d11",
   "metadata": {},
   "outputs": [],
   "source": []
  }
 ],
 "metadata": {
  "kernelspec": {
   "display_name": "Python 3 (ipykernel)",
   "language": "python",
   "name": "python3"
  },
  "language_info": {
   "codemirror_mode": {
    "name": "ipython",
    "version": 3
   },
   "file_extension": ".py",
   "mimetype": "text/x-python",
   "name": "python",
   "nbconvert_exporter": "python",
   "pygments_lexer": "ipython3",
   "version": "3.9.7"
  }
 },
 "nbformat": 4,
 "nbformat_minor": 5
}
