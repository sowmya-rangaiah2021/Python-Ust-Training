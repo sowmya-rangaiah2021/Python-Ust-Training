{
 "cells": [
  {
   "cell_type": "code",
   "execution_count": 2,
   "id": "5752885a",
   "metadata": {
    "ExecuteTime": {
     "end_time": "2022-02-11T08:01:50.570651Z",
     "start_time": "2022-02-11T08:01:50.544319Z"
    }
   },
   "outputs": [
    {
     "data": {
      "text/plain": [
       "True"
      ]
     },
     "execution_count": 2,
     "metadata": {},
     "output_type": "execute_result"
    }
   ],
   "source": [
    "3 < 4 < 5"
   ]
  },
  {
   "cell_type": "code",
   "execution_count": 3,
   "id": "a075339f",
   "metadata": {
    "ExecuteTime": {
     "end_time": "2022-02-11T08:03:02.196104Z",
     "start_time": "2022-02-11T08:03:02.167545Z"
    }
   },
   "outputs": [
    {
     "data": {
      "text/plain": [
       "True"
      ]
     },
     "execution_count": 3,
     "metadata": {},
     "output_type": "execute_result"
    }
   ],
   "source": [
    "3<4 and 4<5"
   ]
  },
  {
   "cell_type": "code",
   "execution_count": 12,
   "id": "23e73598",
   "metadata": {
    "ExecuteTime": {
     "end_time": "2022-02-11T08:08:57.026316Z",
     "start_time": "2022-02-11T08:08:57.003416Z"
    }
   },
   "outputs": [
    {
     "data": {
      "text/plain": [
       "False"
      ]
     },
     "execution_count": 12,
     "metadata": {},
     "output_type": "execute_result"
    }
   ],
   "source": [
    "3 > 4 and 4 > 2"
   ]
  },
  {
   "cell_type": "code",
   "execution_count": 8,
   "id": "67e201b5",
   "metadata": {
    "ExecuteTime": {
     "end_time": "2022-02-11T08:07:33.278236Z",
     "start_time": "2022-02-11T08:07:33.249623Z"
    }
   },
   "outputs": [
    {
     "data": {
      "text/plain": [
       "True"
      ]
     },
     "execution_count": 8,
     "metadata": {},
     "output_type": "execute_result"
    }
   ],
   "source": [
    "2==3 or 4 > 3"
   ]
  },
  {
   "cell_type": "code",
   "execution_count": 11,
   "id": "ccae38f9",
   "metadata": {
    "ExecuteTime": {
     "end_time": "2022-02-11T08:08:40.809687Z",
     "start_time": "2022-02-11T08:08:40.783288Z"
    }
   },
   "outputs": [
    {
     "data": {
      "text/plain": [
       "True"
      ]
     },
     "execution_count": 11,
     "metadata": {},
     "output_type": "execute_result"
    }
   ],
   "source": [
    "3==3 or 1==4"
   ]
  },
  {
   "cell_type": "code",
   "execution_count": null,
   "id": "9bd41863",
   "metadata": {},
   "outputs": [],
   "source": []
  }
 ],
 "metadata": {
  "kernelspec": {
   "display_name": "Python 3 (ipykernel)",
   "language": "python",
   "name": "python3"
  },
  "language_info": {
   "codemirror_mode": {
    "name": "ipython",
    "version": 3
   },
   "file_extension": ".py",
   "mimetype": "text/x-python",
   "name": "python",
   "nbconvert_exporter": "python",
   "pygments_lexer": "ipython3",
   "version": "3.9.7"
  }
 },
 "nbformat": 4,
 "nbformat_minor": 5
}
