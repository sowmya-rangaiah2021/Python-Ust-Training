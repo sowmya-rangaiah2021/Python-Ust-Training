{
 "cells": [
  {
   "cell_type": "code",
   "execution_count": null,
   "id": "8b0c5094",
   "metadata": {},
   "outputs": [],
   "source": [
    "#Number Names - Show how to spell out a number in English. You can use a preexisting implementation or roll your own, but you should support inputs up to at least one million (or the maximum value of your language's default bounded integer type, if that's less). Optional: Support for inputs other than positive integers (like zero, negative integers, and floating-point numbers)"
   ]
  },
  {
   "cell_type": "code",
   "execution_count": null,
   "id": "2e4bd9ea",
   "metadata": {
    "ExecuteTime": {
     "start_time": "2022-02-22T07:44:05.453Z"
    }
   },
   "outputs": [],
   "source": [
    "TENS = [None, None, \"twenty\", \"thirty\", \"forty\",\n",
    "        \"fifty\", \"sixty\", \"seventy\", \"eighty\", \"ninety\"]\n",
    "SMALL = [\"zero\", \"one\", \"two\", \"three\", \"four\", \"five\",\n",
    "         \"six\", \"seven\", \"eight\", \"nine\", \"ten\", \"eleven\",\n",
    "         \"twelve\", \"thirteen\", \"fourteen\", \"fifteen\",\n",
    "         \"sixteen\", \"seventeen\", \"eighteen\", \"nineteen\"]\n",
    "HUGE = [None, None] + [h + \"illion\" \n",
    "                       for h in (\"m\", \"b\", \"tr\", \"quadr\", \"quint\", \"sext\", \n",
    "                                  \"sept\", \"oct\", \"non\", \"dec\")]\n",
    " \n",
    "def nonzero(c, n, connect=''):\n",
    "    return \"\" if n == 0 else connect + c + spell_integer(n)\n",
    " \n",
    "def last_and(num):\n",
    "    if ',' in num:\n",
    "        pre, last = num.rsplit(',', 1)\n",
    "        if ' and ' not in last:\n",
    "            last = ' and' + last\n",
    "        num = ''.join([pre, ',', last])\n",
    "    return num\n",
    " \n",
    "def big(e, n):\n",
    "    if e == 0:\n",
    "        return spell_integer(n)\n",
    "    elif e == 1:\n",
    "        return spell_integer(n) + \" thousand\"\n",
    "    else:\n",
    "        return spell_integer(n) + \" \" + HUGE[e]\n",
    " \n",
    "def base1000_rev(n):\n",
    "    # generates the value of the digits of n in base 1000\n",
    "    # (i.e. 3-digit chunks), in reverse.\n",
    "    while n != 0:\n",
    "        n, r = divmod(n, 1000)\n",
    "        yield r\n",
    " \n",
    "def spell_integer(n):\n",
    "    if n < 0:\n",
    "        return \"minus \" + spell_integer(-n)\n",
    "    elif n < 20:\n",
    "        return SMALL[n]\n",
    "    elif n < 100:\n",
    "        a, b = divmod(n, 10)\n",
    "        return TENS[a] + nonzero(\"-\", b)\n",
    "    elif n < 1000:\n",
    "        a, b = divmod(n, 100)\n",
    "        return SMALL[a] + \" hundred\" + nonzero(\" \", b, ' and')\n",
    "    else:\n",
    "        num = \", \".join([big(e, x) for e, x in\n",
    "                         enumerate(base1000_rev(n)) if x][::-1])\n",
    "        return last_and(num)\n",
    " \n",
    "if __name__ == '__main__':\n",
    "    # examples\n",
    "    for n in (0, -3, 5, -7, 11, -13, 17, -19, 23, -29):\n",
    "        print('%+4i -> %s' % (n, spell_integer(n)))\n",
    "    print('')  \n",
    " \n",
    "    n = 201021002001\n",
    "    while n:\n",
    "        print('%-12i -> %s' % (n, spell_integer(n)))\n",
    "        n //= -10\n",
    "    print('%-12i -> %s' % (n, spell_integer(n)))\n",
    "    print('')"
   ]
  },
  {
   "cell_type": "code",
   "execution_count": null,
   "id": "d08bb3ef",
   "metadata": {},
   "outputs": [],
   "source": []
  },
  {
   "cell_type": "code",
   "execution_count": null,
   "id": "10c1bdda",
   "metadata": {},
   "outputs": [],
   "source": [
    "#CAPTCHA Maker - Ever see those images with letters a numbers when you signup for a service and then asks you to enter what you see? It keeps web bots from automatically signing up and spamming. Try creating one yourself for online forms.\n"
   ]
  },
  {
   "cell_type": "code",
   "execution_count": null,
   "id": "c9d284d1",
   "metadata": {
    "ExecuteTime": {
     "start_time": "2022-02-22T07:41:23.433Z"
    }
   },
   "outputs": [
    {
     "name": "stdout",
     "output_type": "stream",
     "text": [
      "89gpiboYJ\n",
      "Enter above CAPTCHA:\n"
     ]
    }
   ],
   "source": [
    "# Python program to automatically generate CAPTCHA and\n",
    "# verify user\n",
    "import random\n",
    "\n",
    "# Returns true if given two strings are same\n",
    "def checkCaptcha(captcha, user_captcha):\n",
    "\tif captcha == user_captcha:\n",
    "\t\treturn True\n",
    "\treturn False\n",
    "\n",
    "# Generates a CAPTCHA of given length\n",
    "def generateCaptcha(n):\n",
    "\t\n",
    "\t# Characters to be included\n",
    "\tchrs = \"abcdefghijklmnopqrstuvwxyzABCDEFGHIJKLMNOPQRSTUVWXYZ0123456789\"\n",
    "\t\n",
    "\t# Generate n characters from above set and\n",
    "\t# add these characters to captcha.\n",
    "\tcaptcha = \"\"\n",
    "\twhile (n):\n",
    "\t\tcaptcha += chrs[random.randint(1, 1000) % 62]\n",
    "\t\tn -= 1\n",
    "\treturn captcha\n",
    "\n",
    "# Driver code\n",
    "\n",
    "# Generate a random CAPTCHA\n",
    "captcha = generateCaptcha(9)\n",
    "print(captcha)\n",
    "\n",
    "# Ask user to enter a CAPTCHA\n",
    "print(\"Enter above CAPTCHA:\")\n",
    "usr_captcha = input()\n",
    "\n",
    "# Notify user about matching status\n",
    "if (checkCaptcha(captcha, usr_captcha)):\n",
    "\tprint(\"CAPTCHA Matched\")\n",
    "else:\n",
    "\tprint(\"CAPTCHA Not Matched\")\n",
    "\n",
    "# This code is contributed by shubhamsingh10"
   ]
  },
  {
   "cell_type": "code",
   "execution_count": null,
   "id": "46774654",
   "metadata": {},
   "outputs": [],
   "source": []
  },
  {
   "cell_type": "code",
   "execution_count": null,
   "id": "06958dd0",
   "metadata": {},
   "outputs": [],
   "source": []
  },
  {
   "cell_type": "code",
   "execution_count": null,
   "id": "cfcc262d",
   "metadata": {},
   "outputs": [],
   "source": []
  },
  {
   "cell_type": "code",
   "execution_count": null,
   "id": "13ce05ed",
   "metadata": {},
   "outputs": [],
   "source": []
  }
 ],
 "metadata": {
  "kernelspec": {
   "display_name": "Python 3 (ipykernel)",
   "language": "python",
   "name": "python3"
  },
  "language_info": {
   "codemirror_mode": {
    "name": "ipython",
    "version": 3
   },
   "file_extension": ".py",
   "mimetype": "text/x-python",
   "name": "python",
   "nbconvert_exporter": "python",
   "pygments_lexer": "ipython3",
   "version": "3.9.7"
  }
 },
 "nbformat": 4,
 "nbformat_minor": 5
}
